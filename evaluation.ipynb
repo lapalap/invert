{
 "cells": [
  {
   "cell_type": "markdown",
   "metadata": {},
   "source": [
    "# Evaluation\n",
    "\n",
    "Get explanation accuracy for NetDissect and INVERT.\n",
    "\n",
    "The MS COCO dataset requires the COCO API to be installed <https://github.com/cocodataset/cocoapi/tree/master>\n",
    "\n",
    "Evlauation procedure is only compatable with previous version of INVERT -- to run, please check out to the `eval` branch."
   ]
  }
 ],
 "metadata": {
  "kernelspec": {
   "display_name": "comtorch",
   "language": "python",
   "name": "python3"
  },
  "language_info": {
   "codemirror_mode": {
    "name": "ipython",
    "version": 3
   },
   "file_extension": ".py",
   "mimetype": "text/x-python",
   "name": "python",
   "nbconvert_exporter": "python",
   "pygments_lexer": "ipython3",
   "version": "3.9.18"
  }
 },
 "nbformat": 4,
 "nbformat_minor": 2
}
