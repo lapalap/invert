{
 "cells": [
  {
   "cell_type": "markdown",
   "metadata": {},
   "source": [
    "## INVERT demo\n",
    "\n",
    "Following notebook demonstrates the demo how INVERT works"
   ]
  },
  {
   "cell_type": "code",
   "execution_count": null,
   "metadata": {},
   "outputs": [],
   "source": [
    "! git clone https://github.com/lapalap/invert.git"
   ]
  },
  {
   "cell_type": "code",
   "execution_count": 1,
   "metadata": {},
   "outputs": [
    {
     "name": "stderr",
     "output_type": "stream",
     "text": [
      "/var/folders/jf/1rx81_w56yn3cp5dpjyj31480000gn/T/ipykernel_24243/3075536979.py:11: ResourceWarning: unclosed file <_io.TextIOWrapper name='assets/imagenet/ILSVRC2012_classes.json' mode='r' encoding='UTF-8'>\n",
      "  data = data.read()\n",
      "ResourceWarning: Enable tracemalloc to get the object allocation traceback\n"
     ]
    }
   ],
   "source": [
    "from invert.explainer import Invert\n",
    "from invert.metrics import Metric\n",
    "import torch\n",
    "import pandas as pd\n",
    "import json\n",
    "\n",
    "df = pd.read_csv('assets/imagenet/ILSVRC2012_val.csv') #1481 class\n",
    "one_hot_labels = torch.tensor(df[df.columns[1:]].values)\n",
    "\n",
    "data = open('assets/imagenet/ILSVRC2012_classes.json')\n",
    "data = data.read()\n",
    "data = json.loads(data)\n",
    "\n",
    "model = None\n",
    "\n",
    "explainer = Invert(\n",
    "        model,\n",
    "        storage_dir=\".invert/\",\n",
    "        device=\"cpu\",\n",
    "    )\n",
    "# download DenseNet activations by following link\n",
    "# https://www.dropbox.com/s/8fnjmanjounjrwj/features50k_densenet161_val.tnsr?dl=0\n",
    "#Documents/Work/DORA/notebooks/feature_extractor/features/kaggle/resnet18/resnet18_vals_full/A50k_avgpoolresnet18_val.tnsr\n",
    "#A = torch.load(\"/Users/kirillbykov/Documents/Work/visual_vs_semantic/activations/features50k_densenet161_val.tnsr\")\n",
    "A = torch.load(\"/Users/kirillbykov/Documents/Work/DORA/notebooks/feature_extractor/features/kaggle/resnet18/resnet18_vals_full/A50k_avgpoolresnet18_val.tnsr\")\n",
    "\n",
    "explainer.load_activations(A,\n",
    "                           one_hot_labels,\n",
    "                           data\n",
    "                           )"
   ]
  },
  {
   "cell_type": "code",
   "execution_count": 4,
   "metadata": {},
   "outputs": [
    {
     "data": {
      "text/plain": [
       "{'1': [{'formula': n03417042,\n",
       "   'length': 1,\n",
       "   'metric': tensor(0.9668),\n",
       "   'concept_fraction': tensor(0.0010)},\n",
       "  {'formula': n04065272,\n",
       "   'length': 1,\n",
       "   'metric': tensor(0.9646),\n",
       "   'concept_fraction': tensor(0.0010)},\n",
       "  {'formula': n04467665,\n",
       "   'length': 1,\n",
       "   'metric': tensor(0.9559),\n",
       "   'concept_fraction': tensor(0.0010)}],\n",
       " '2': [{'formula': n03417042,\n",
       "   'length': 1,\n",
       "   'metric': tensor(0.9668),\n",
       "   'concept_fraction': tensor(0.0010)},\n",
       "  {'formula': n03417042 | n04065272,\n",
       "   'length': 2,\n",
       "   'metric': tensor(0.9662),\n",
       "   'concept_fraction': tensor(0.0020)},\n",
       "  {'formula': n04065272,\n",
       "   'length': 1,\n",
       "   'metric': tensor(0.9646),\n",
       "   'concept_fraction': tensor(0.0010)}],\n",
       " '3': [{'formula': n03417042,\n",
       "   'length': 1,\n",
       "   'metric': tensor(0.9668),\n",
       "   'concept_fraction': tensor(0.0010)},\n",
       "  {'formula': n03417042 | n04065272,\n",
       "   'length': 2,\n",
       "   'metric': tensor(0.9662),\n",
       "   'concept_fraction': tensor(0.0020)},\n",
       "  {'formula': n04065272,\n",
       "   'length': 1,\n",
       "   'metric': tensor(0.9646),\n",
       "   'concept_fraction': tensor(0.0010)}]}"
      ]
     },
     "execution_count": 4,
     "metadata": {},
     "output_type": "execute_result"
    }
   ],
   "source": [
    "explainer.explain_representation_fast(88,\n",
    "                                        3,\n",
    "                                        3,\n",
    "                                        Metric(),\n",
    "                                        min_fraction=0.,\n",
    "                                        max_fraction=0.5,\n",
    "                                        memorize_states=True,\n",
    "                                        )"
   ]
  },
  {
   "cell_type": "code",
   "execution_count": 4,
   "metadata": {},
   "outputs": [
    {
     "ename": "TypeError",
     "evalue": "explain_representation() got an unexpected keyword argument 'min_fraction'",
     "output_type": "error",
     "traceback": [
      "\u001b[0;31m---------------------------------------------------------------------------\u001b[0m",
      "\u001b[0;31mTypeError\u001b[0m                                 Traceback (most recent call last)",
      "Cell \u001b[0;32mIn[4], line 1\u001b[0m\n\u001b[0;32m----> 1\u001b[0m explainer\u001b[39m.\u001b[39;49mexplain_representation(\u001b[39m211\u001b[39;49m, \u001b[39m3\u001b[39;49m, \u001b[39m3\u001b[39;49m, Metric(), min_fraction\u001b[39m=\u001b[39;49m\u001b[39m0.002\u001b[39;49m, max_fraction\u001b[39m=\u001b[39;49m\u001b[39m0.5\u001b[39;49m)\n",
      "\u001b[0;31mTypeError\u001b[0m: explain_representation() got an unexpected keyword argument 'min_fraction'"
     ]
    }
   ],
   "source": [
    "explainer.explain_representation(211, 3, 3, Metric(), min_fraction=0.002, max_fraction=0.5)\n"
   ]
  }
 ],
 "metadata": {
  "kernelspec": {
   "display_name": "base",
   "language": "python",
   "name": "python3"
  },
  "language_info": {
   "codemirror_mode": {
    "name": "ipython",
    "version": 3
   },
   "file_extension": ".py",
   "mimetype": "text/x-python",
   "name": "python",
   "nbconvert_exporter": "python",
   "pygments_lexer": "ipython3",
   "version": "3.9.7"
  },
  "orig_nbformat": 4
 },
 "nbformat": 4,
 "nbformat_minor": 2
}
