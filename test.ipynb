{
 "cells": [
  {
   "cell_type": "code",
   "execution_count": 5,
   "metadata": {},
   "outputs": [
    {
     "name": "stderr",
     "output_type": "stream",
     "text": [
      "/var/folders/jf/1rx81_w56yn3cp5dpjyj31480000gn/T/ipykernel_21516/2212940599.py:11: ResourceWarning: unclosed file <_io.TextIOWrapper name='assets/imagenet/ILSVRC2012_classes.json' mode='r' encoding='UTF-8'>\n",
      "  data = data.read()\n",
      "ResourceWarning: Enable tracemalloc to get the object allocation traceback\n"
     ]
    }
   ],
   "source": [
    "from invert.explainer import Invert\n",
    "from invert.metrics import Metric\n",
    "import torch\n",
    "import pandas as pd\n",
    "import json\n",
    "\n",
    "df = pd.read_csv('assets/imagenet/ILSVRC2012_val.csv') #1481 class\n",
    "one_hot_labels = torch.tensor(df[df.columns[1:]].values)\n",
    "\n",
    "data = open('assets/imagenet/ILSVRC2012_classes.json')\n",
    "data = data.read()\n",
    "data = json.loads(data)\n",
    "\n",
    "model = None\n",
    "\n",
    "explainer = Invert(\n",
    "        model,\n",
    "        storage_dir=\".invert/\",\n",
    "        device=\"cpu\",\n",
    "    )\n",
    "# download DenseNet activations by following link\n",
    "# https://www.dropbox.com/s/8fnjmanjounjrwj/features50k_densenet161_val.tnsr?dl=0\n",
    "#Documents/Work/DORA/notebooks/feature_extractor/features/kaggle/resnet18/resnet18_vals_full/A50k_avgpoolresnet18_val.tnsr\n",
    "#A = torch.load(\"/Users/kirillbykov/Documents/Work/visual_vs_semantic/activations/features50k_densenet161_val.tnsr\")\n",
    "A = torch.load(\"/Users/kirillbykov/Documents/Work/DORA/notebooks/feature_extractor/features/kaggle/resnet18/resnet18_vals_full/A50k_avgpoolresnet18_val.tnsr\")\n",
    "\n",
    "explainer.load_activations(A,\n",
    "                           one_hot_labels,\n",
    "                           data\n",
    "                           )"
   ]
  },
  {
   "cell_type": "code",
   "execution_count": 7,
   "metadata": {},
   "outputs": [
    {
     "data": {
      "text/plain": [
       "(50000, 1474)"
      ]
     },
     "execution_count": 7,
     "metadata": {},
     "output_type": "execute_result"
    }
   ],
   "source": [
    "df.shape\n"
   ]
  },
  {
   "cell_type": "code",
   "execution_count": 3,
   "metadata": {},
   "outputs": [
    {
     "data": {
      "text/plain": [
       "torch.Size([50000, 512])"
      ]
     },
     "execution_count": 3,
     "metadata": {},
     "output_type": "execute_result"
    }
   ],
   "source": [
    "A.shape"
   ]
  },
  {
   "cell_type": "code",
   "execution_count": 9,
   "metadata": {},
   "outputs": [
    {
     "data": {
      "text/plain": [
       "[{'formula': n03510583 | ~n00003553,\n",
       "  'length': 2,\n",
       "  'metric': tensor(0.9763),\n",
       "  'concept_fraction': tensor(0.0020)},\n",
       " {'formula': n02686568 | ~n03510583,\n",
       "  'length': 2,\n",
       "  'metric': tensor(0.9763),\n",
       "  'concept_fraction': tensor(0.0020)},\n",
       " {'formula': n03510583,\n",
       "  'length': 1,\n",
       "  'metric': tensor(0.9763),\n",
       "  'concept_fraction': tensor(0.0020)}]"
      ]
     },
     "execution_count": 9,
     "metadata": {},
     "output_type": "execute_result"
    }
   ],
   "source": [
    "explainer.explain_representation_fast(211, 2, 3, Metric(), min_fraction=0.002, max_fraction=0.5)"
   ]
  },
  {
   "cell_type": "code",
   "execution_count": 8,
   "metadata": {},
   "outputs": [
    {
     "ename": "TypeError",
     "evalue": "explain_representation_fast() got an unexpected keyword argument 'threshold'",
     "output_type": "error",
     "traceback": [
      "\u001b[0;31m---------------------------------------------------------------------------\u001b[0m",
      "\u001b[0;31mTypeError\u001b[0m                                 Traceback (most recent call last)",
      "Cell \u001b[0;32mIn[8], line 1\u001b[0m\n\u001b[0;32m----> 1\u001b[0m explainer\u001b[39m.\u001b[39;49mexplain_representation_fast(\u001b[39m211\u001b[39;49m, \u001b[39m3\u001b[39;49m, \u001b[39m3\u001b[39;49m, Metric(), threshold \u001b[39m=\u001b[39;49m \u001b[39m0.002\u001b[39;49m)\n",
      "\u001b[0;31mTypeError\u001b[0m: explain_representation_fast() got an unexpected keyword argument 'threshold'"
     ]
    }
   ],
   "source": [
    "explainer.explain_representation(211, 2, 3, Metric(), min_fraction=0.002, max_fraction=0.5)\n"
   ]
  }
 ],
 "metadata": {
  "kernelspec": {
   "display_name": "base",
   "language": "python",
   "name": "python3"
  },
  "language_info": {
   "codemirror_mode": {
    "name": "ipython",
    "version": 3
   },
   "file_extension": ".py",
   "mimetype": "text/x-python",
   "name": "python",
   "nbconvert_exporter": "python",
   "pygments_lexer": "ipython3",
   "version": "3.9.7"
  },
  "orig_nbformat": 4
 },
 "nbformat": 4,
 "nbformat_minor": 2
}
