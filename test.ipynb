{
 "cells": [
  {
   "cell_type": "code",
   "execution_count": 7,
   "metadata": {},
   "outputs": [],
   "source": [
    "import pandas as pd\n",
    "import torch\n",
    "\n",
    "df = pd.read_csv('/Users/kirillbykov/Documents/GitHub/invert/assets/imagenet/ILSVRC2012_val.csv') #1481 class\n",
    "one_hot_labels = torch.tensor(df[df.columns[1:]].values)\n",
    "\n"
   ]
  },
  {
   "cell_type": "code",
   "execution_count": 1,
   "metadata": {},
   "outputs": [],
   "source": [
    "import sympy, torch, sympytorch, pandas\n",
    "from invert.explainer import Invert\n",
    "\n",
    "explainer = Invert(\n",
    "        storage_dir = \".invert/\"\n",
    "    )\n",
    "\n",
    "explainer.load_concept_labels(labels_path='/Users/kirillbykov/Documents/GitHub/invert/assets/imagenet/one_hot_labels.tnsr',\n",
    "                              num_samples=50000,\n",
    "                              num_concepts=1473,\n",
    "                              description_path='/Users/kirillbykov/Documents/GitHub/invert/assets/imagenet/ILSVRC2012_classes.json'\n",
    "                              )"
   ]
  },
  {
   "cell_type": "code",
   "execution_count": 2,
   "metadata": {},
   "outputs": [
    {
     "name": "stdout",
     "output_type": "stream",
     "text": [
      "cpu\n"
     ]
    }
   ],
   "source": [
    "from invert.phi import Phi\n",
    "\n",
    "device = torch.device(\"cuda:0\" if torch.cuda.is_available() else \"cpu\")\n",
    "print(device)\n",
    "\n",
    "f1 = explainer.concepts[0]|explainer.concepts[2]\n",
    "f2 = f1 | explainer.concepts[1] & explainer.concepts[4]\n",
    "\n",
    "a = Phi(f2, device)"
   ]
  },
  {
   "cell_type": "code",
   "execution_count": 9,
   "metadata": {},
   "outputs": [
    {
     "data": {
      "text/plain": [
       "{n01440764, n01443537, n01484850, n01494475}"
      ]
     },
     "execution_count": 9,
     "metadata": {},
     "output_type": "execute_result"
    }
   ],
   "source": [
    "a._distinct_concepts"
   ]
  },
  {
   "cell_type": "code",
   "execution_count": 12,
   "metadata": {},
   "outputs": [
    {
     "data": {
      "text/plain": [
       "tensor([False, False, False,  ..., False, False, False])"
      ]
     },
     "execution_count": 12,
     "metadata": {},
     "output_type": "execute_result"
    }
   ],
   "source": [
    "explainer.memdict[list(a._distinct_concepts)[0].name]"
   ]
  },
  {
   "cell_type": "code",
   "execution_count": 3,
   "metadata": {},
   "outputs": [
    {
     "data": {
      "text/plain": [
       "tensor([False, False, False,  ..., False, False, False])"
      ]
     },
     "execution_count": 3,
     "metadata": {},
     "output_type": "execute_result"
    }
   ],
   "source": [
    "a(explainer.memdict)"
   ]
  },
  {
   "cell_type": "code",
   "execution_count": null,
   "metadata": {},
   "outputs": [],
   "source": []
  },
  {
   "cell_type": "code",
   "execution_count": 3,
   "metadata": {},
   "outputs": [],
   "source": [
    "A = torch.load('/Users/kirillbykov/Documents/Work/DORA/notebooks/feature_extractor/features/kaggle/resnet18/resnet18_vals_full/A50k_avgpoolresnet18_val.tnsr')"
   ]
  },
  {
   "cell_type": "code",
   "execution_count": 4,
   "metadata": {},
   "outputs": [
    {
     "data": {
      "text/plain": [
       "1473"
      ]
     },
     "execution_count": 4,
     "metadata": {},
     "output_type": "execute_result"
    }
   ],
   "source": [
    "len(explainer.description)"
   ]
  },
  {
   "cell_type": "code",
   "execution_count": 5,
   "metadata": {},
   "outputs": [
    {
     "data": {
      "text/plain": [
       "tensor([[0.7324, 0.8989, 0.0860,  ..., 0.1831, 1.4734, 0.5398],\n",
       "        [0.1906, 1.7372, 0.0077,  ..., 0.2823, 0.7293, 0.1778],\n",
       "        [0.3251, 2.9584, 1.3852,  ..., 0.0866, 0.6223, 0.4383],\n",
       "        ...,\n",
       "        [0.0886, 0.7534, 0.3375,  ..., 0.5029, 2.5786, 0.3427],\n",
       "        [0.8026, 0.2852, 0.7529,  ..., 2.5023, 1.1567, 0.7015],\n",
       "        [0.6491, 0.4464, 0.4937,  ..., 0.3732, 1.7108, 0.5803]])"
      ]
     },
     "execution_count": 5,
     "metadata": {},
     "output_type": "execute_result"
    }
   ],
   "source": [
    "A"
   ]
  },
  {
   "cell_type": "code",
   "execution_count": 6,
   "metadata": {},
   "outputs": [],
   "source": [
    "A = A[:, 296]"
   ]
  },
  {
   "cell_type": "code",
   "execution_count": 8,
   "metadata": {},
   "outputs": [
    {
     "data": {
      "text/plain": [
       "tensor([[False, False, False,  ..., False, False, False],\n",
       "        [False, False, False,  ..., False, False, False],\n",
       "        [False, False, False,  ..., False, False, False],\n",
       "        ...,\n",
       "        [False, False, False,  ..., False, False, False],\n",
       "        [False, False, False,  ..., False, False, False],\n",
       "        [False, False, False,  ..., False, False, False]])"
      ]
     },
     "execution_count": 8,
     "metadata": {},
     "output_type": "execute_result"
    }
   ],
   "source": [
    "explainer.labels"
   ]
  },
  {
   "cell_type": "code",
   "execution_count": 9,
   "metadata": {},
   "outputs": [
    {
     "name": "stderr",
     "output_type": "stream",
     "text": [
      "/Users/kirillbykov/opt/anaconda3/lib/python3.9/site-packages/torchmetrics/utilities/prints.py:36: UserWarning: No negative samples in targets, false positive value should be meaningless. Returning zero tensor in false positive score\n",
      "  warnings.warn(*args, **kwargs)\n",
      "/Users/kirillbykov/opt/anaconda3/lib/python3.9/site-packages/torchmetrics/utilities/prints.py:36: UserWarning: No positive samples in targets, true positive value should be meaningless. Returning zero tensor in true positive score\n",
      "  warnings.warn(*args, **kwargs)\n"
     ]
    },
    {
     "name": "stdout",
     "output_type": "stream",
     "text": [
      "[{'formula': n03928116, 'length': 1, 'metric': tensor(0.8716), 'concept_fraction': tensor(0.0020)}, {'formula': n04379243, 'length': 1, 'metric': tensor(0.8515), 'concept_fraction': tensor(0.0020)}, {'formula': n03322940, 'length': 1, 'metric': tensor(0.8497), 'concept_fraction': tensor(0.0020)}]\n",
      "+\n",
      "+\n",
      "+\n",
      "New length\n",
      "+\n",
      "+\n",
      "+\n",
      "New length\n"
     ]
    },
    {
     "data": {
      "text/plain": [
       "[{'formula': ~n04515003 & (n03924679 | n03928116),\n",
       "  'length': 3,\n",
       "  'metric': tensor(0.9213),\n",
       "  'concept_fraction': tensor(0.0020)},\n",
       " {'formula': ~n04515003 & (n03467068 | n03928116),\n",
       "  'length': 3,\n",
       "  'metric': tensor(0.9212),\n",
       "  'concept_fraction': tensor(0.0020)},\n",
       " {'formula': ~n04515003 & (n03179701 | n03928116),\n",
       "  'length': 3,\n",
       "  'metric': tensor(0.9208),\n",
       "  'concept_fraction': tensor(0.0020)}]"
      ]
     },
     "execution_count": 9,
     "metadata": {},
     "output_type": "execute_result"
    }
   ],
   "source": [
    "explainer.explain_representation_test(A, L = 3, B = 3, metric=Metric(), min_fraction=0.002, max_fraction=0.5)"
   ]
  },
  {
   "cell_type": "code",
   "execution_count": null,
   "metadata": {},
   "outputs": [],
   "source": [
    "from invert.phi import Phi\n",
    "\n",
    "f1 = explainer.concepts[0]|explainer.concepts[2]\n",
    "f2 = f1 | explainer.concepts[1] & explainer.concepts[4]\n",
    "\n",
    "a = Phi(f2)"
   ]
  }
 ],
 "metadata": {
  "kernelspec": {
   "display_name": "base",
   "language": "python",
   "name": "python3"
  },
  "language_info": {
   "codemirror_mode": {
    "name": "ipython",
    "version": 3
   },
   "file_extension": ".py",
   "mimetype": "text/x-python",
   "name": "python",
   "nbconvert_exporter": "python",
   "pygments_lexer": "ipython3",
   "version": "3.9.7"
  }
 },
 "nbformat": 4,
 "nbformat_minor": 2
}
