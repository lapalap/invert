{
 "cells": [
  {
   "cell_type": "code",
   "execution_count": 1,
   "metadata": {},
   "outputs": [
    {
     "name": "stderr",
     "output_type": "stream",
     "text": [
      "/var/folders/jf/1rx81_w56yn3cp5dpjyj31480000gn/T/ipykernel_5016/1072314748.py:11: ResourceWarning: unclosed file <_io.TextIOWrapper name='assets/imagenet/ILSVRC2012_classes.json' mode='r' encoding='UTF-8'>\n",
      "  data = data.read()\n",
      "ResourceWarning: Enable tracemalloc to get the object allocation traceback\n"
     ]
    }
   ],
   "source": [
    "from invert.explainer import Invert\n",
    "from invert.metrics import Metric\n",
    "import torch\n",
    "import pandas as pd\n",
    "import json\n",
    "\n",
    "df = pd.read_csv('/Users/kirillbykov/Documents/Work/INVERT/data/imagenet_val/ILSVRC2012_val_labels.csv')\n",
    "one_hot_labels = torch.tensor(df[df.columns[1:]].values)\n",
    "\n",
    "data = open('assets/imagenet/ILSVRC2012_classes.json')\n",
    "data = data.read()\n",
    "data = json.loads(data)\n",
    "\n",
    "model = None\n",
    "\n",
    "explainer = Invert(\n",
    "        model,\n",
    "        storage_dir=\".invert/\",\n",
    "        device=\"cpu\",\n",
    "    )\n",
    "# download DenseNet activations by following link\n",
    "# https://www.dropbox.com/s/8fnjmanjounjrwj/features50k_densenet161_val.tnsr?dl=0\n",
    "A = torch.load(\"/Users/kirillbykov/Documents/Work/visual_vs_semantic/activations/features50k_densenet161_val.tnsr\")\n",
    "explainer.load_activations(A,\n",
    "                           one_hot_labels,\n",
    "                           data\n",
    "                           )"
   ]
  },
  {
   "cell_type": "code",
   "execution_count": 2,
   "metadata": {},
   "outputs": [
    {
     "name": "stderr",
     "output_type": "stream",
     "text": [
      "/Users/kirillbykov/opt/anaconda3/lib/python3.9/site-packages/torchmetrics/utilities/prints.py:36: UserWarning: No negative samples in targets, false positive value should be meaningless. Returning zero tensor in false positive score\n",
      "  warnings.warn(*args, **kwargs)\n",
      "/Users/kirillbykov/opt/anaconda3/lib/python3.9/site-packages/torchmetrics/utilities/prints.py:36: UserWarning: No positive samples in targets, true positive value should be meaningless. Returning zero tensor in true positive score\n",
      "  warnings.warn(*args, **kwargs)\n"
     ]
    },
    {
     "data": {
      "text/plain": [
       "[{'formula': n02111626 | ~n02112018,\n",
       "  'length': 2,\n",
       "  'metric': tensor(0.8656),\n",
       "  'concept_fraction': tensor(0.0030)},\n",
       " {'formula': n02110958 | n02766320,\n",
       "  'length': 2,\n",
       "  'metric': tensor(0.8593),\n",
       "  'concept_fraction': tensor(0.0040)}]"
      ]
     },
     "execution_count": 2,
     "metadata": {},
     "output_type": "execute_result"
    }
   ],
   "source": [
    "explainer.explain_representation_fast(254, 2, 2, Metric(), threshold = 0.0025)"
   ]
  },
  {
   "cell_type": "code",
   "execution_count": 5,
   "metadata": {},
   "outputs": [
    {
     "data": {
      "text/plain": [
       "[{'formula': n02111626 & ~n02112018,\n",
       "  'length': 2,\n",
       "  'metric': tensor(0.8656),\n",
       "  'concept_fraction': tensor(0.0030)},\n",
       " {'formula': n02110958 | n02766320,\n",
       "  'length': 2,\n",
       "  'metric': tensor(0.8593),\n",
       "  'concept_fraction': tensor(0.0040)}]"
      ]
     },
     "execution_count": 5,
     "metadata": {},
     "output_type": "execute_result"
    }
   ],
   "source": [
    "explainer.explain_representation(254, 2, 2, Metric(), threshold = 0.0025)"
   ]
  },
  {
   "cell_type": "code",
   "execution_count": 4,
   "metadata": {},
   "outputs": [
    {
     "name": "stdout",
     "output_type": "stream",
     "text": [
      "259 {'name': 'pomeranian.n.01', 'definition': 'breed of very small compact long-haired dogs of the spitz type', 'offset': 'n02112018', 'hyperclass': False, 'symbol': n02112018}\n"
     ]
    }
   ],
   "source": [
    "def find_last(search_value:str, d:dict):\n",
    "  for k in d:\n",
    "    if d[k]['offset'] == search_value:\n",
    "      print(k, d[k])\n",
    "\n",
    "find_last('n02112018', data)"
   ]
  }
 ],
 "metadata": {
  "kernelspec": {
   "display_name": "base",
   "language": "python",
   "name": "python3"
  },
  "language_info": {
   "codemirror_mode": {
    "name": "ipython",
    "version": 3
   },
   "file_extension": ".py",
   "mimetype": "text/x-python",
   "name": "python",
   "nbconvert_exporter": "python",
   "pygments_lexer": "ipython3",
   "version": "3.9.7"
  },
  "orig_nbformat": 4
 },
 "nbformat": 4,
 "nbformat_minor": 2
}
